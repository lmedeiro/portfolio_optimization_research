{
 "cells": [
  {
   "cell_type": "code",
   "execution_count": 1,
   "metadata": {},
   "outputs": [],
   "source": [
    "import numpy as np\n",
    "import pandas as pd\n",
    "import matplotlib.pyplot as plt\n",
    "import sys\n",
    "import os\n",
    "import cvxpy as cp\n",
    "from cvxopt import matrix, solvers\n",
    "import sklearn.covariance as sk_cov\n",
    "import pyRMT as rmt\n",
    "from pdb import set_trace as bp"
   ]
  },
  {
   "cell_type": "code",
   "execution_count": 2,
   "metadata": {},
   "outputs": [],
   "source": [
    "home_dir = os.path.expandvars(\"$HOME\")\n",
    "app_src_dir = '/dev/repos/FinancialAnalyticsSystem/src'\n",
    "sys.path.insert(0, home_dir + app_src_dir)\n"
   ]
  },
  {
   "cell_type": "code",
   "execution_count": 3,
   "metadata": {},
   "outputs": [],
   "source": [
    "%load_ext autoreload\n",
    "%autoreload 1\n",
    "#from DataHandlingSystem.DataLoadingSystem import *\n",
    "%aimport DataHandlingSystem\n",
    "%aimport FeatureExtractionSystem\n",
    "%aimport PortfolioManagementSystem.BackTestingSystem.bt\n"
   ]
  },
  {
   "cell_type": "code",
   "execution_count": 4,
   "metadata": {},
   "outputs": [],
   "source": [
    "#import bt\n",
    "from PortfolioManagementSystem.BackTestingSystem import bt\n",
    "from DataHandlingSystem.DataLoadingSystem import *\n",
    "from FeatureExtractionSystem.DeltaFeatureExtractor import * "
   ]
  },
  {
   "cell_type": "code",
   "execution_count": 5,
   "metadata": {},
   "outputs": [
    {
     "name": "stderr",
     "output_type": "stream",
     "text": [
      "/home/l7/dev/tools/anaconda3/envs/analytics_system_env_3.6.5/lib/python3.6/site-packages/psycopg2/__init__.py:144: UserWarning: The psycopg2 wheel package will be renamed from release 2.8; in order to keep installing from binary please use \"pip install psycopg2-binary\" instead. For details see: <http://initd.org/psycopg/docs/install.html#binary-install-from-pypi>.\n",
      "  \"\"\")\n"
     ]
    }
   ],
   "source": [
    "sql_pass = str(np.loadtxt('/home/l7/dev/docs/sql_login.txt', dtype=str))\n",
    "db_name = 'stocks_eod'\n",
    "owner = 'sql_manager'\n",
    "data_loader = DataLoadingSystem(db_owner=owner, db_name=db_name, sql_pass=sql_pass)\n"
   ]
  },
  {
   "cell_type": "code",
   "execution_count": 6,
   "metadata": {},
   "outputs": [],
   "source": [
    "start_date = \"2000-01-01\"\n",
    "end_date = '2019-01-01'\n",
    "table_names = ['NVDA', 'MSFT', 'AXP', 'BA', 'CAT', 'BITTI_HE',\n",
    "              'DAI_DE', 'MC_PA', 'UPM_HE', 'FORTUM_HE']\n",
    "\n",
    "data_container, smallest_table = get_data_container(table_names=table_names,\n",
    "                                                   start_date=start_date,\n",
    "                                                   end_date=end_date,\n",
    "                                                   data_loader=data_loader)\n",
    "distance=1\n",
    "change_df = get_change_data_frame(data_container, smallest_table,\n",
    "                                 table_names,distance=distance)\n",
    "change_df = change_df[distance:]"
   ]
  },
  {
   "cell_type": "code",
   "execution_count": 7,
   "metadata": {},
   "outputs": [
    {
     "name": "stdout",
     "output_type": "stream",
     "text": [
      "Number of observations: 4407\n",
      "expected returns: NVDA         0.001381\n",
      "MSFT         0.000483\n",
      "AXP          0.000487\n",
      "BA           0.000765\n",
      "CAT          0.000747\n",
      "BITTI_HE    -0.000007\n",
      "DAI_DE       0.000283\n",
      "MC_PA        0.000549\n",
      "UPM_HE       0.000458\n",
      "FORTUM_HE    0.000774\n",
      "dtype: float64\n"
     ]
    }
   ],
   "source": [
    "expected_returns = change_df.mean()\n",
    "print(\"Number of observations: {}\".format(change_df.index.size))\n",
    "print(\"expected returns: {}\".format(expected_returns))\n"
   ]
  },
  {
   "cell_type": "code",
   "execution_count": 8,
   "metadata": {},
   "outputs": [],
   "source": [
    "data = pd.DataFrame(columns=table_names)\n",
    "for table_name in table_names:\n",
    "    data[table_name] = data_container[table_name]['adjusted close']\n",
    "data = data.replace([np.inf, -np.inf], np.nan)\n",
    "data = data.dropna(how='any')"
   ]
  },
  {
   "cell_type": "code",
   "execution_count": 9,
   "metadata": {},
   "outputs": [
    {
     "data": {
      "text/html": [
       "<div>\n",
       "<style scoped>\n",
       "    .dataframe tbody tr th:only-of-type {\n",
       "        vertical-align: middle;\n",
       "    }\n",
       "\n",
       "    .dataframe tbody tr th {\n",
       "        vertical-align: top;\n",
       "    }\n",
       "\n",
       "    .dataframe thead th {\n",
       "        text-align: right;\n",
       "    }\n",
       "</style>\n",
       "<table border=\"1\" class=\"dataframe\">\n",
       "  <thead>\n",
       "    <tr style=\"text-align: right;\">\n",
       "      <th></th>\n",
       "      <th>NVDA</th>\n",
       "      <th>MSFT</th>\n",
       "      <th>AXP</th>\n",
       "      <th>BA</th>\n",
       "      <th>CAT</th>\n",
       "      <th>BITTI_HE</th>\n",
       "      <th>DAI_DE</th>\n",
       "      <th>MC_PA</th>\n",
       "      <th>UPM_HE</th>\n",
       "      <th>FORTUM_HE</th>\n",
       "    </tr>\n",
       "    <tr>\n",
       "      <th>date</th>\n",
       "      <th></th>\n",
       "      <th></th>\n",
       "      <th></th>\n",
       "      <th></th>\n",
       "      <th></th>\n",
       "      <th></th>\n",
       "      <th></th>\n",
       "      <th></th>\n",
       "      <th></th>\n",
       "      <th></th>\n",
       "    </tr>\n",
       "  </thead>\n",
       "  <tbody>\n",
       "    <tr>\n",
       "      <th>2000-06-23 00:00:00+03:00</th>\n",
       "      <td>11.3869</td>\n",
       "      <td>25.2172</td>\n",
       "      <td>36.1322</td>\n",
       "      <td>26.3530</td>\n",
       "      <td>10.4638</td>\n",
       "      <td>122.416206</td>\n",
       "      <td>26.808281</td>\n",
       "      <td>62.177441</td>\n",
       "      <td>4.757380</td>\n",
       "      <td>0.980212</td>\n",
       "    </tr>\n",
       "    <tr>\n",
       "      <th>2000-06-26 00:00:00+03:00</th>\n",
       "      <td>12.7555</td>\n",
       "      <td>25.8047</td>\n",
       "      <td>37.8569</td>\n",
       "      <td>26.2671</td>\n",
       "      <td>10.5182</td>\n",
       "      <td>120.152466</td>\n",
       "      <td>26.708200</td>\n",
       "      <td>63.191719</td>\n",
       "      <td>4.873412</td>\n",
       "      <td>0.982639</td>\n",
       "    </tr>\n",
       "    <tr>\n",
       "      <th>2000-06-27 00:00:00+03:00</th>\n",
       "      <td>10.9564</td>\n",
       "      <td>25.5808</td>\n",
       "      <td>36.5095</td>\n",
       "      <td>26.4323</td>\n",
       "      <td>10.7841</td>\n",
       "      <td>116.669792</td>\n",
       "      <td>27.056112</td>\n",
       "      <td>62.774864</td>\n",
       "      <td>4.775231</td>\n",
       "      <td>0.987490</td>\n",
       "    </tr>\n",
       "    <tr>\n",
       "      <th>2000-06-28 00:00:00+03:00</th>\n",
       "      <td>10.5335</td>\n",
       "      <td>25.6230</td>\n",
       "      <td>35.8762</td>\n",
       "      <td>26.7891</td>\n",
       "      <td>10.9261</td>\n",
       "      <td>120.326591</td>\n",
       "      <td>26.827343</td>\n",
       "      <td>63.136147</td>\n",
       "      <td>4.819860</td>\n",
       "      <td>0.980212</td>\n",
       "    </tr>\n",
       "    <tr>\n",
       "      <th>2000-06-29 00:00:00+03:00</th>\n",
       "      <td>9.0157</td>\n",
       "      <td>25.0550</td>\n",
       "      <td>35.3709</td>\n",
       "      <td>27.0534</td>\n",
       "      <td>10.5756</td>\n",
       "      <td>116.843910</td>\n",
       "      <td>26.307861</td>\n",
       "      <td>61.969002</td>\n",
       "      <td>4.819860</td>\n",
       "      <td>0.994769</td>\n",
       "    </tr>\n",
       "  </tbody>\n",
       "</table>\n",
       "</div>"
      ],
      "text/plain": [
       "                              NVDA     MSFT      AXP       BA      CAT  \\\n",
       "date                                                                     \n",
       "2000-06-23 00:00:00+03:00  11.3869  25.2172  36.1322  26.3530  10.4638   \n",
       "2000-06-26 00:00:00+03:00  12.7555  25.8047  37.8569  26.2671  10.5182   \n",
       "2000-06-27 00:00:00+03:00  10.9564  25.5808  36.5095  26.4323  10.7841   \n",
       "2000-06-28 00:00:00+03:00  10.5335  25.6230  35.8762  26.7891  10.9261   \n",
       "2000-06-29 00:00:00+03:00   9.0157  25.0550  35.3709  27.0534  10.5756   \n",
       "\n",
       "                             BITTI_HE     DAI_DE      MC_PA    UPM_HE  \\\n",
       "date                                                                    \n",
       "2000-06-23 00:00:00+03:00  122.416206  26.808281  62.177441  4.757380   \n",
       "2000-06-26 00:00:00+03:00  120.152466  26.708200  63.191719  4.873412   \n",
       "2000-06-27 00:00:00+03:00  116.669792  27.056112  62.774864  4.775231   \n",
       "2000-06-28 00:00:00+03:00  120.326591  26.827343  63.136147  4.819860   \n",
       "2000-06-29 00:00:00+03:00  116.843910  26.307861  61.969002  4.819860   \n",
       "\n",
       "                           FORTUM_HE  \n",
       "date                                  \n",
       "2000-06-23 00:00:00+03:00   0.980212  \n",
       "2000-06-26 00:00:00+03:00   0.982639  \n",
       "2000-06-27 00:00:00+03:00   0.987490  \n",
       "2000-06-28 00:00:00+03:00   0.980212  \n",
       "2000-06-29 00:00:00+03:00   0.994769  "
      ]
     },
     "execution_count": 9,
     "metadata": {},
     "output_type": "execute_result"
    }
   ],
   "source": [
    "data[:5]"
   ]
  },
  {
   "cell_type": "code",
   "execution_count": 10,
   "metadata": {},
   "outputs": [],
   "source": [
    "def calculate_Sigma(X, method_name='sample'):\n",
    "    sigma = None\n",
    "    if method_name == 'sample': \n",
    "        sigma = np.cov(X.values, rowvar=False)\n",
    "    elif method_name == 'ledoit-wolf':\n",
    "        sigma = sk_cov.ledoit_wolf(X.values)[0]\n",
    "    elif method_name == 'rie' or method_name == 'RIE':\n",
    "        #bp()\n",
    "        if X.values.shape[0] <= X.values.shape[1]:\n",
    "            sigma = sk_cov.ledoit_wolf(X.values)[0]\n",
    "            #sigma = rmt.optimalShrinkage(X.values, return_covariance=True)\n",
    "        else:\n",
    "            sigma = rmt.optimalShrinkage(X.values, return_covariance=True)\n",
    "    elif method_name =='clipped': \n",
    "        if X.values.shape[0] <= X.values.shape[1]:\n",
    "            sigma = sk_cov.ledoit_wolf(X.values)[0]\n",
    "            #sigma = rmt.optimalShrinkage(X.values, return_covariance=True)\n",
    "        else:\n",
    "            sigma = rmt.clipped(X.values, return_covariance=True)\n",
    "    else:\n",
    "        raise Exception('Error occurred with method name: {}'.format(method_name))\n",
    "        \n",
    "    return sigma"
   ]
  },
  {
   "cell_type": "code",
   "execution_count": 11,
   "metadata": {},
   "outputs": [],
   "source": [
    "def calculate_GMVP(sigma):\n",
    "    N = sigma.shape[0]\n",
    "    x = cp.Variable(shape=(N,1))\n",
    "    problem = cp.Problem(cp.Minimize((1/2) * cp.quad_form(x, sigma)),\n",
    "                         [x >= np.ones([N,1]) * 0,\n",
    "                          np.ones([N,1]).T @ x == 1])\n",
    "    optimum = problem.solve()\n",
    "    return x.value, optimum"
   ]
  },
  {
   "cell_type": "code",
   "execution_count": 4,
   "metadata": {},
   "outputs": [],
   "source": [
    "def calculate_mdp(sigma):\n",
    "    \"\"\"\n",
    "    Maximum Diversified Portfolio\n",
    "    :param sigma:\n",
    "    :return:\n",
    "    \"\"\"\n",
    "    N = sigma.shape[0]\n",
    "    volatilities = np.sqrt(np.diag(sigma))\n",
    "    x = cp.Variable(shape=(N,1))\n",
    "    problem = cp.Problem(cp.Maximize((x.T @ volatilities) * 1 / cp.sqrt(cp.quad_form(x, sigma))),\n",
    "                         [x >= np.ones([N,1]) * 0,\n",
    "                          np.ones([N,1]).T @ x == 1])\n",
    "    optimum = problem.solve()\n",
    "    return x.value, optimum"
   ]
  },
  {
   "cell_type": "code",
   "execution_count": 12,
   "metadata": {},
   "outputs": [],
   "source": [
    "class WeighMeanVar_local(bt.Algo):\n",
    "\n",
    "    \"\"\"\n",
    "    Sets temp['weights'] based on mean-variance optimization.\n",
    "\n",
    "    Sets the target weights based on ffn's calc_mean_var_weights. This is a\n",
    "    Python implementation of Markowitz's mean-variance optimization.\n",
    "\n",
    "    See:\n",
    "        http://en.wikipedia.org/wiki/Modern_portfolio_theory#The_efficient_frontier_with_no_risk-free_asset\n",
    "\n",
    "    Args:\n",
    "        * lookback (DateOffset): lookback period for estimating volatility\n",
    "        * bounds ((min, max)): tuple specifying the min and max weights for\n",
    "            each asset in the optimization.\n",
    "        * covar_method (str): method used to estimate the covariance. See ffn's\n",
    "            calc_mean_var_weights for more details.\n",
    "            In addition, RIE and clipping eigenvalues method are also provided for comparison. \n",
    "        * rf (float): risk-free rate used in optimization.\n",
    "        * lag (DateOffset): Number of days to use as the reference return. For example, if there is a\n",
    "        lag of 3 days, that means that the returns are based on three days prior. \n",
    "\n",
    "    Sets:\n",
    "        * weights\n",
    "\n",
    "    Requires:\n",
    "        * selected\n",
    "\n",
    "    \"\"\"\n",
    "\n",
    "    def __init__(self, lookback=pd.DateOffset(months=3),\n",
    "                 bounds=(0., 1.), covar_method='ledoit-wolf',\n",
    "                 rf=0., lag=pd.DateOffset(days=0)):\n",
    "        super(WeighMeanVar_local, self).__init__()\n",
    "        self.lookback = lookback\n",
    "        self.lag = lag\n",
    "        self.bounds = bounds\n",
    "        self.covar_method = covar_method\n",
    "        self.rf = rf\n",
    "\n",
    "    def __call__(self, target):\n",
    "        selected = target.temp['selected']\n",
    "\n",
    "        if len(selected) == 0:\n",
    "            target.temp['weights'] = {}\n",
    "            return True\n",
    "\n",
    "        if len(selected) == 1:\n",
    "            target.temp['weights'] = {selected[0]: 1.}\n",
    "            return True\n",
    "\n",
    "        t0 = target.now - self.lag\n",
    "        prc = target.universe[selected].loc[t0 - self.lookback:t0]\n",
    "        # It calculates the returns every time we compute the weights again.\n",
    "        returns = prc.to_returns().dropna()\n",
    "        if returns.index.size > 1:\n",
    "            returns = returns.dropna()\n",
    "            sigma = calculate_Sigma(returns, method_name=self.covar_method)\n",
    "            raw_weights, optimum = calculate_GMVP(sigma)\n",
    "            for index, weight in enumerate(raw_weights):\n",
    "                if weight < 0.01: \n",
    "                    raw_weights[index] = 0.0\n",
    "            tw = pd.DataFrame(data=raw_weights.T, columns=prc.columns)\n",
    "            target.temp['weights'] = tw.dropna()\n",
    "        else:\n",
    "            n = len(selected)\n",
    "\n",
    "            if n == 0:\n",
    "                target.temp['weights'] = {}\n",
    "            else:\n",
    "                w = 1.0 / n\n",
    "                target.temp['weights'] = {x: w for x in selected}\n",
    "        return True\n"
   ]
  },
  {
   "cell_type": "code",
   "execution_count": 13,
   "metadata": {},
   "outputs": [],
   "source": [
    "lookback=pd.DateOffset(months=12)\n",
    "lag = pd.DateOffset(months=0)\n",
    "# q is quantity (number of shares)\n",
    "# p is price\n",
    "commission_func = lambda q, p: max(8, abs(q) * abs(p) * 0.003)"
   ]
  },
  {
   "cell_type": "code",
   "execution_count": 14,
   "metadata": {},
   "outputs": [],
   "source": [
    "method_name = 'ledoit-wolf'\n",
    "s1 = bt.Strategy(method_name, [bt.algos.RunMonthly(),\n",
    "                      bt.algos.SelectAll(),\n",
    "                      WeighMeanVar_local(lookback=lookback,\n",
    "                                         lag=lag,\n",
    "                                         covar_method=method_name),\n",
    "                      bt.algos.Rebalance()])\n",
    "test1 = bt.Backtest(s1, data, commissions=commission_func)"
   ]
  },
  {
   "cell_type": "code",
   "execution_count": 15,
   "metadata": {},
   "outputs": [],
   "source": [
    "#result = bt.run(test1)"
   ]
  },
  {
   "cell_type": "code",
   "execution_count": 16,
   "metadata": {},
   "outputs": [],
   "source": [
    "method_name = 'RIE'\n",
    "s2 = bt.Strategy(method_name, [bt.algos.RunMonthly(),\n",
    "                      bt.algos.SelectAll(),\n",
    "                      WeighMeanVar_local(lookback=lookback,\n",
    "                                         lag=lag,\n",
    "                                         covar_method=method_name),\n",
    "                      bt.algos.Rebalance()])\n",
    "test2 = bt.Backtest(s2, data, commissions=commission_func)"
   ]
  },
  {
   "cell_type": "code",
   "execution_count": 17,
   "metadata": {},
   "outputs": [],
   "source": [
    "method_name = 'clipped'\n",
    "s4 = bt.Strategy(method_name, [bt.algos.RunMonthly(),\n",
    "                      bt.algos.SelectAll(),\n",
    "                      WeighMeanVar_local(lookback=lookback,\n",
    "                                         lag=lag,\n",
    "                                         covar_method=method_name),\n",
    "                      bt.algos.Rebalance()])\n",
    "test4 = bt.Backtest(s4, data, commissions=commission_func)"
   ]
  },
  {
   "cell_type": "code",
   "execution_count": 18,
   "metadata": {},
   "outputs": [],
   "source": [
    "method_name = 'sample'\n",
    "s3 = bt.Strategy(method_name, [bt.algos.RunMonthly(),\n",
    "                      bt.algos.SelectAll(),\n",
    "                      WeighMeanVar_local(lookback=lookback,\n",
    "                                         lag=lag,\n",
    "                                         covar_method=method_name),\n",
    "                      bt.algos.Rebalance()])\n",
    "test3 = bt.Backtest(s3, data, commissions=commission_func)"
   ]
  },
  {
   "cell_type": "code",
   "execution_count": 19,
   "metadata": {},
   "outputs": [],
   "source": [
    "method_name = 'long_only'\n",
    "s5 = bt.Strategy(method_name, [bt.algos.RunOnce(),\n",
    "                      bt.algos.SelectAll(),\n",
    "                      bt.algos.WeighEqually(),\n",
    "                      bt.algos.Rebalance()])\n",
    "test5 = bt.Backtest(s5, data, commissions=commission_func)"
   ]
  },
  {
   "cell_type": "code",
   "execution_count": 20,
   "metadata": {},
   "outputs": [
    {
     "ename": "NameError",
     "evalue": "name 'S_s' is not defined",
     "output_type": "error",
     "traceback": [
      "\u001b[0;31m-------------------------------------------------------------------\u001b[0m",
      "\u001b[0;31mNameError\u001b[0m                         Traceback (most recent call last)",
      "\u001b[0;32m<ipython-input-20-510476a8b268>\u001b[0m in \u001b[0;36m<module>\u001b[0;34m()\u001b[0m\n\u001b[0;32m----> 1\u001b[0;31m \u001b[0mnp\u001b[0m\u001b[0;34m.\u001b[0m\u001b[0mcov\u001b[0m\u001b[0;34m(\u001b[0m\u001b[0mS_s\u001b[0m\u001b[0;34m)\u001b[0m\u001b[0;34m\u001b[0m\u001b[0m\n\u001b[0m",
      "\u001b[0;31mNameError\u001b[0m: name 'S_s' is not defined"
     ]
    }
   ],
   "source": [
    "np.cov(S_s)"
   ]
  },
  {
   "cell_type": "code",
   "execution_count": 228,
   "metadata": {},
   "outputs": [
    {
     "name": "stdout",
     "output_type": "stream",
     "text": [
      "\n",
      "sample\n",
      "0% [############################# ] 100% | ETA: 00:00:00\n",
      "clipped\n",
      "0% [############################# ] 100% | ETA: 00:00:00"
     ]
    }
   ],
   "source": [
    "result = bt.run(test1, test2, test3, test4, test5)\n",
    "#result = bt.run(test1, test2, test5)\n",
    "# TODO: Something is wrong with the local copy. Must investigate. "
   ]
  },
  {
   "cell_type": "code",
   "execution_count": 229,
   "metadata": {},
   "outputs": [
    {
     "data": {
      "text/plain": [
       "<matplotlib.axes._subplots.AxesSubplot at 0x7fd80f530c88>"
      ]
     },
     "execution_count": 229,
     "metadata": {},
     "output_type": "execute_result"
    },
    {
     "data": {
      "image/png": "[encoded data removed]",
      "text/plain": [
       "<Figure size 1080x360 with 1 Axes>"
      ]
     },
     "metadata": {},
     "output_type": "display_data"
    }
   ],
   "source": [
    "result.plot()"
   ]
  },
  {
   "cell_type": "code",
   "execution_count": 230,
   "metadata": {},
   "outputs": [
    {
     "name": "stdout",
     "output_type": "stream",
     "text": [
      "Stat                 ledoit-wolf    RIE         sample      clipped     long_only\n",
      "-------------------  -------------  ----------  ----------  ----------  -----------\n",
      "Start                2000-06-22     2000-06-22  2000-06-22  2000-06-22  2000-06-22\n",
      "End                  2018-12-28     2018-12-28  2018-12-28  2018-12-28  2018-12-28\n",
      "Risk-free rate       0.00%          0.00%       0.00%       0.00%       0.00%\n",
      "\n",
      "Total Return         877.15%        735.30%     838.11%     831.55%     603.04%\n",
      "Daily Sharpe         0.76           0.71        0.74        0.74        0.61\n",
      "Daily Sortino        1.24           1.16        1.21        1.21        0.97\n",
      "CAGR                 13.10%         12.15%      12.85%      12.81%      11.11%\n",
      "Max Drawdown         -61.78%        -62.35%     -62.07%     -61.34%     -63.81%\n",
      "Calmar Ratio         0.21           0.19        0.21        0.21        0.17\n",
      "\n",
      "MTD                  -4.61%         -4.95%      -4.70%      -5.06%      -7.00%\n",
      "3m                   -10.87%        -11.44%     -10.63%     -10.74%     -25.40%\n",
      "6m                   -1.75%         -3.31%      -2.51%      -2.72%      -16.94%\n",
      "YTD                  6.72%          4.41%       6.80%       5.45%       -5.33%\n",
      "1Y                   6.54%          4.22%       6.42%       5.24%       -5.99%\n",
      "3Y (ann.)            22.43%         21.79%      21.39%      21.74%      25.35%\n",
      "5Y (ann.)            15.25%         14.93%      13.96%      14.20%      15.97%\n",
      "10Y (ann.)           21.27%         20.57%      20.56%      20.67%      16.49%\n",
      "Since Incep. (ann.)  13.10%         12.15%      12.85%      12.81%      11.11%\n",
      "\n",
      "Daily Sharpe         0.76           0.71        0.74        0.74        0.61\n",
      "Daily Sortino        1.24           1.16        1.21        1.21        0.97\n",
      "Daily Mean (ann.)    14.42%         13.55%      14.21%      14.18%      13.15%\n",
      "Daily Vol (ann.)     19.00%         19.00%      19.10%      19.12%      21.72%\n",
      "Daily Skew           -0.25          -0.28       -0.24       -0.25       -0.22\n",
      "Daily Kurt           8.35           8.77        8.03        9.06        7.98\n",
      "Best Day             11.09%         11.58%      11.01%      11.51%      14.63%\n",
      "Worst Day            -13.26%        -13.39%     -13.11%     -13.75%     -12.51%\n",
      "\n",
      "Monthly Sharpe       0.75           0.72        0.73        0.74        0.62\n",
      "Monthly Sortino      1.33           1.25        1.29        1.31        1.04\n",
      "Monthly Mean (ann.)  14.31%         13.41%      14.13%      14.04%      12.90%\n",
      "Monthly Vol (ann.)   19.00%         18.72%      19.23%      18.91%      20.83%\n",
      "Monthly Skew         -0.19          -0.22       -0.20       -0.25       -0.50\n",
      "Monthly Kurt         3.74           3.87        3.47        3.59        1.40\n",
      "Best Month           27.09%         26.82%      26.97%      26.07%      21.52%\n",
      "Worst Month          -21.80%        -21.95%     -21.79%     -22.36%     -21.51%\n",
      "\n",
      "Yearly Sharpe        0.59           0.59        0.57        0.58        0.58\n",
      "Yearly Sortino       1.37           1.32        1.32        1.36        1.22\n",
      "Yearly Mean          17.51%         16.26%      16.96%      17.15%      15.32%\n",
      "Yearly Vol           29.63%         27.41%      29.85%      29.32%      26.44%\n",
      "Yearly Skew          -0.08          -0.29       -0.00       -0.10       -0.91\n",
      "Yearly Kurt          1.45           1.58        1.51        1.15        0.53\n",
      "Best Year            78.19%         71.08%      80.00%      75.20%      51.72%\n",
      "Worst Year           -53.24%        -51.80%     -53.68%     -52.16%     -50.06%\n",
      "\n",
      "Avg. Drawdown        -2.46%         -2.39%      -2.43%      -2.63%      -3.20%\n",
      "Avg. Drawdown Days   29.84          29.76       31.50       30.84       40.79\n",
      "Avg. Up Month        4.23%          4.20%       4.29%       4.29%       4.65%\n",
      "Avg. Down Month      -4.09%         -3.94%      -4.14%      -3.95%      -4.80%\n",
      "Win Year %           83.33%         83.33%      77.78%      77.78%      72.22%\n",
      "Win 12m %            77.83%         76.42%      76.42%      76.42%      70.28%\n"
     ]
    }
   ],
   "source": [
    "result.display()"
   ]
  },
  {
   "cell_type": "code",
   "execution_count": null,
   "metadata": {},
   "outputs": [],
   "source": []
  }
 ],
 "metadata": {
  "kernelspec": {
   "display_name": "Python 3",
   "language": "python",
   "name": "python3"
  },
  "language_info": {
   "codemirror_mode": {
    "name": "ipython",
    "version": 3
   },
   "file_extension": ".py",
   "mimetype": "text/x-python",
   "name": "python",
   "nbconvert_exporter": "python",
   "pygments_lexer": "ipython3",
   "version": "3.6.6"
  }
 },
 "nbformat": 4,
 "nbformat_minor": 2
}
