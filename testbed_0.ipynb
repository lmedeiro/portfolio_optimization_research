{
 "cells": [
  {
   "cell_type": "code",
   "execution_count": 1,
   "metadata": {},
   "outputs": [],
   "source": [
    "import sqlalchemy as sql\n",
    "import numpy as np\n",
    "import pandas as pd\n",
    "import matplotlib.pyplot as plt\n",
    "import sys\n",
    "import os\n",
    "import scipy as sci"
   ]
  },
  {
   "cell_type": "markdown",
   "metadata": {},
   "source": [
    "### Test with general optimization procedures with the CVXPY and CVXOPT"
   ]
  },
  {
   "cell_type": "code",
   "execution_count": 2,
   "metadata": {},
   "outputs": [],
   "source": [
    "\n",
    "import cvxpy as cp\n",
    "from cvxopt import matrix, solvers\n",
    "import bt"
   ]
  },
  {
   "cell_type": "markdown",
   "metadata": {},
   "source": [
    "### Set General Paths for loading modules and variables"
   ]
  },
  {
   "cell_type": "code",
   "execution_count": 3,
   "metadata": {},
   "outputs": [],
   "source": [
    "home_dir = os.path.expandvars(\"$HOME\")\n",
    "app_src_dir = '/dev/repos/FinancialAnalyticsSystem/src'\n",
    "sys.path.insert(0, home_dir + app_src_dir)"
   ]
  },
  {
   "cell_type": "code",
   "execution_count": 4,
   "metadata": {},
   "outputs": [],
   "source": [
    "%load_ext autoreload\n",
    "%autoreload 1"
   ]
  },
  {
   "cell_type": "code",
   "execution_count": 5,
   "metadata": {},
   "outputs": [],
   "source": [
    "#from DataHandlingSystem.DataLoadingSystem import *\n",
    "%aimport DataHandlingSystem\n",
    "%aimport FeatureExtractionSystem"
   ]
  },
  {
   "cell_type": "code",
   "execution_count": 6,
   "metadata": {},
   "outputs": [],
   "source": [
    "from DataHandlingSystem.DataLoadingSystem import *\n",
    "from FeatureExtractionSystem.DeltaFeatureExtractor import * "
   ]
  },
  {
   "cell_type": "code",
   "execution_count": 7,
   "metadata": {},
   "outputs": [
    {
     "name": "stderr",
     "output_type": "stream",
     "text": [
      "/home/l7/dev/tools/anaconda3/envs/analytics_system_env_3.6.5/lib/python3.6/site-packages/psycopg2/__init__.py:144: UserWarning: The psycopg2 wheel package will be renamed from release 2.8; in order to keep installing from binary please use \"pip install psycopg2-binary\" instead. For details see: <http://initd.org/psycopg/docs/install.html#binary-install-from-pypi>.\n",
      "  \"\"\")\n"
     ]
    }
   ],
   "source": [
    "sql_pass = str(np.loadtxt('/home/l7/dev/docs/sql_login.txt', dtype=str))\n",
    "db_name = 'stocks_eod'\n",
    "owner = 'sql_manager'\n",
    "data_loader = DataLoadingSystem(db_owner=owner, db_name=db_name, sql_pass=sql_pass)\n"
   ]
  },
  {
   "cell_type": "code",
   "execution_count": 337,
   "metadata": {},
   "outputs": [],
   "source": [
    "start_date = \"2004-12-28\"\n",
    "end_date = '2019-01-01'\n",
    "table_names = ['NVDA', # 'MSFT', 'AXP', 'BA', 'CAT', 'ASML',\n",
    "              'DAI_DE', 'MC_PA', 'UPM_HE', 'FORTUM_HE']\n",
    "data_container = {}\n",
    "smallest_number_of_entries = np.inf\n",
    "smallest_table = ''\n",
    "for table_name in table_names:\n",
    "    #print(table_name)\n",
    "    data = data_loader.get_data_for_specific_date_range(table_name=table_name,\n",
    "                                    start_date=start_date,\n",
    "                                    end_date=end_date)\n",
    "    data_container[table_name] = data\n",
    "    #print(data_container[table_name].index.size)\n",
    "    if data_container[table_name].index.size < smallest_number_of_entries:\n",
    "        smallest_number_of_entries = data_container[table_name].index.size\n",
    "        smallest_table = table_name\n",
    "#data_container"
   ]
  },
  {
   "cell_type": "code",
   "execution_count": 338,
   "metadata": {},
   "outputs": [],
   "source": [
    "change_df = pd.DataFrame(columns=data_container.keys())\n",
    "distance = 1\n",
    "lsuffix = '_x'\n",
    "change_df[smallest_table] = np.append(np.zeros([1,distance]),get_change_date_range(data=data_container[smallest_table]['adjusted close'].values,\n",
    "                                                             distance=distance))\n",
    "for table_name in table_names:\n",
    "    if table_name == smallest_table:\n",
    "        pass\n",
    "    else:\n",
    "        merged_data = data_container[table_name].join(data_container[smallest_table],\n",
    "                                             how='right', \n",
    "                                             lsuffix=lsuffix)\n",
    "        change_df[table_name] = np.append(np.zeros([1,distance]),get_change_date_range(data=merged_data['adjusted close' + lsuffix].values,\n",
    "                                                                 distance=distance))\n",
    "change_df = change_df.replace([np.inf, -np.inf], np.nan)\n",
    "change_df = change_df.dropna(how='any')\n",
    "#change_df"
   ]
  },
  {
   "cell_type": "markdown",
   "metadata": {},
   "source": [
    "Daily $\\mathbb{E}(r)$, as well as $\\Sigma$"
   ]
  },
  {
   "cell_type": "code",
   "execution_count": 339,
   "metadata": {
    "slideshow": {
     "slide_type": "-"
    }
   },
   "outputs": [
    {
     "name": "stdout",
     "output_type": "stream",
     "text": [
      "Number of observations: 3346\n",
      "expected returns: NVDA         0.001345\n",
      "DAI_DE       0.000520\n",
      "MC_PA        0.000668\n",
      "UPM_HE       0.000543\n",
      "FORTUM_HE    0.000572\n",
      "dtype: float64\n",
      "sigma: [[8.87080436e-04 1.71986142e-04 1.43354774e-04 1.27629380e-04\n",
      "  9.46416956e-05]\n",
      " [1.71986142e-04 4.39279112e-04 2.39222477e-04 2.46247239e-04\n",
      "  1.47920742e-04]\n",
      " [1.43354774e-04 2.39222477e-04 3.11643822e-04 1.94919073e-04\n",
      "  1.27436192e-04]\n",
      " [1.27629380e-04 2.46247239e-04 1.94919073e-04 4.29136614e-04\n",
      "  1.46490424e-04]\n",
      " [9.46416956e-05 1.47920742e-04 1.27436192e-04 1.46490424e-04\n",
      "  3.07515092e-04]]\n",
      "N: 5\n",
      "sum of sigma: 0.005654351351106666\n"
     ]
    }
   ],
   "source": [
    "# TODO: These tests account strickly for daily changes. If we would llike to \n",
    "# look at changes over some period of time, it is necessary to recompute the \n",
    "# the data frame containing changes for one which looks at changes over\n",
    "# longer period. \n",
    "expected_returns = change_df[distance:].mean()\n",
    "print(\"Number of observations: {}\".format(change_df.index.size))\n",
    "print(\"expected returns: {}\".format(expected_returns))\n",
    "sigma = np.cov(change_df[distance:].values, rowvar=False)\n",
    "print(\"sigma: {}\".format(sigma))\n",
    "N = sigma.shape[0]\n",
    "print(\"N: {}\".format(N))\n",
    "print('sum of sigma: {}'.format(np.sum(sigma)))"
   ]
  },
  {
   "cell_type": "code",
   "execution_count": 340,
   "metadata": {},
   "outputs": [
    {
     "name": "stdout",
     "output_type": "stream",
     "text": [
      "[[1.         0.27551273 0.27264742 0.20685755 0.18120401]\n",
      " [0.27551273 1.         0.64655049 0.56715702 0.40246265]\n",
      " [0.27264742 0.64655049 1.         0.5330001  0.41165207]\n",
      " [0.20685755 0.56715702 0.5330001  1.         0.40325358]\n",
      " [0.18120401 0.40246265 0.41165207 0.40325358 1.        ]]\n"
     ]
    }
   ],
   "source": [
    "correlations = np.corrcoef(change_df[distance:].values, rowvar=False)\n",
    "print(correlations)\n",
    "min_row = np.argmin(correlations)\n",
    "#np.min(correlations)b"
   ]
  },
  {
   "cell_type": "code",
   "execution_count": 341,
   "metadata": {},
   "outputs": [
    {
     "data": {
      "text/plain": [
       "array([3, 4])"
      ]
     },
     "execution_count": 341,
     "metadata": {},
     "output_type": "execute_result"
    }
   ],
   "source": [
    "t = np.array([[1,2],[1, 1]])\n",
    "a = np.array([1,2])\n",
    "a @ t"
   ]
  },
  {
   "cell_type": "code",
   "execution_count": 342,
   "metadata": {},
   "outputs": [],
   "source": [
    "\n",
    "r = expected_returns.values.reshape([N,1])\n",
    "b = 1\n",
    "ones = lambda y: np.ones([y, 1])"
   ]
  },
  {
   "cell_type": "code",
   "execution_count": 350,
   "metadata": {},
   "outputs": [],
   "source": [
    "def calculate_mdp(sigma):\n",
    "    \"\"\"\n",
    "    Maximum Diversified Portfolio\n",
    "    :param sigma: covariance matrix\n",
    "    :param min_gmvp_point: paramter that stipulates what is the minimum gmpv point at which\n",
    "    to place as constraint in the QCP\n",
    "    :return:\n",
    "    \"\"\"\n",
    "    N = sigma.shape[0]\n",
    "    # bp()\n",
    "    volatilities = np.sqrt(np.diag(sigma))\n",
    "    volatilities = volatilities.reshape(volatilities.shape[0], 1)\n",
    "    w_N = np.ones([N, 1]) * 1 / N\n",
    "    V_N = w_N.T  @ volatilities\n",
    "    D_N = 100\n",
    "    R_N = V_N / D_N\n",
    "    x = cp.Variable(shape=(N,1))\n",
    "    V = x.T @ volatilities # cp.quad_form(x, sigma)\n",
    "    constraints = [x >= np.ones([N,1]) * 0,\n",
    "                   np.ones([N,1]).T @ x == 1,\n",
    "                   cp.quad_form(x, sigma) <= R_N,\n",
    "                   ]\n",
    "    problem = cp.Problem(cp.Maximize(V),\n",
    "                         constraints)\n",
    "    optimum = problem.solve(#solver='OSQP',\n",
    "                            qcp=True)\n",
    "    gmvp_point = cp.quad_form(x, sigma).value\n",
    "    return x.value, optimum, gmvp_point"
   ]
  },
  {
   "cell_type": "code",
   "execution_count": 348,
   "metadata": {},
   "outputs": [
    {
     "name": "stdout",
     "output_type": "stream",
     "text": [
      "D_N: 100, V_N: [0.02132961], R_N: [0.0002133], R_N^2: [4.54952174e-08]\n"
     ]
    }
   ],
   "source": [
    "volatilities = np.sqrt(np.diag(sigma)) \n",
    "w_N = np.ones([N, 1]) * 1 / N\n",
    "V_N = w_N.T  @ volatilities\n",
    "#D_N = V_N / np.sqrt(w_N.T @ sigma @ w_N)\n",
    "D_N = 100\n",
    "R_N = V_N / D_N #np.sqrt(w_N.T @ sigma @ w_N)\n",
    "print(\"D_N: {}, V_N: {}, R_N: {}, R_N^2: {}\".format(D_N, V_N, R_N, R_N**2))"
   ]
  },
  {
   "cell_type": "code",
   "execution_count": 349,
   "metadata": {},
   "outputs": [
    {
     "name": "stdout",
     "output_type": "stream",
     "text": [
      "N: 5, 1/N: 0.2, min_gmvp_point: [0.0002133]\n",
      "weights: [[0.2089542 ]\n",
      " [0.08670987]\n",
      " [0.18811979]\n",
      " [0.17996944]\n",
      " [0.3362467 ]], \n",
      " D: [[98.39101497]], gmvp point achieved: [[0.0002133]]\n"
     ]
    }
   ],
   "source": [
    "N = sigma.shape[0]\n",
    "min_gmvp_point =  R_N #(np.sum(sigma) / N) ** 1.2\n",
    "print('N: {}, 1/N: {}, min_gmvp_point: {}'.format(N, 1/N, min_gmvp_point))\n",
    "diversificaton_ratio = 100\n",
    "w, D, gmvp_point = calculate_mdp(sigma)\n",
    "print(\"weights: {}, \\n D: {}, gmvp point achieved: {}\".format(w, D / gmvp_point, gmvp_point))"
   ]
  },
  {
   "cell_type": "code",
   "execution_count": 346,
   "metadata": {},
   "outputs": [
    {
     "name": "stdout",
     "output_type": "stream",
     "text": [
      "(5, 1)\n"
     ]
    }
   ],
   "source": [
    "x = cp.Variable(shape=(N,1))\n",
    "print(x.shape)\n",
    "#R = 0.05\n",
    "R = cp.Variable(shape=(1,))\n",
    "problem = cp.Problem(cp.Minimize((1/2) * cp.quad_form(x, sigma)),\n",
    "                     [x >= np.ones([N,1]) * 0,\n",
    "                      ones(N).T @ x == b,\n",
    "                      # R >=0.10,\n",
    "                     #r.T @ x >= R\n",
    "                     ])"
   ]
  },
  {
   "cell_type": "code",
   "execution_count": 109,
   "metadata": {},
   "outputs": [
    {
     "name": "stdout",
     "output_type": "stream",
     "text": [
      "variance of portfolio: 0.00186308381805147\n",
      "[[-0.   ]\n",
      " [ 0.411]\n",
      " [-0.   ]\n",
      " [ 0.151]\n",
      " [-0.   ]\n",
      " [ 0.258]\n",
      " [ 0.   ]\n",
      " [ 0.181]]\n",
      "0.9999999999999999\n",
      "Value of return : None\n"
     ]
    }
   ],
   "source": [
    "print(\"variance of portfolio: {}\".format(problem.solve()))\n",
    "print(x.value.round(3))\n",
    "print(np.sum(x.value))\n",
    "print(\"Value of return : {}\".format(R.value))"
   ]
  },
  {
   "cell_type": "code",
   "execution_count": null,
   "metadata": {},
   "outputs": [],
   "source": [
    "x = cp.Variable(shape=(N,1))\n",
    "R = cp.Variable(shape=(1,))\n",
    "accepted_volatility = 0.30\n",
    "minimum_expected_return = 0.15\n",
    "portfolio_variance = (1/2) * cp.quad_form(x, sigma) <= accepted_volatility ** 2\n",
    "problem = cp.Problem(cp.Maximize(R),\n",
    "                     [x >= np.ones([N,1]) * 0,\n",
    "                      ones(N).T @ x == b,\n",
    "                      R >=minimum_expected_return,\n",
    "                      r.T @ x >= R,\n",
    "                      portfolio_variance])"
   ]
  },
  {
   "cell_type": "code",
   "execution_count": null,
   "metadata": {},
   "outputs": [],
   "source": [
    "problem.solve()\n",
    "final_variance = x.T.value @ sigma @ x.value\n",
    "print(\"final variance: {}\".format(final_variance))\n",
    "print(x.value.round(3))\n",
    "print(np.sum(x.value))\n",
    "print(\"Value of return : {}\".format(R.value))"
   ]
  },
  {
   "cell_type": "code",
   "execution_count": null,
   "metadata": {},
   "outputs": [],
   "source": [
    "labels = []\n",
    "for item in expected_returns.index.values:\n",
    "    labels.append(item)\n",
    "labels"
   ]
  },
  {
   "cell_type": "code",
   "execution_count": null,
   "metadata": {},
   "outputs": [],
   "source": [
    "plt.figure(figsize=(10,5))\n",
    "plt.title('Expected return vs Volatility')\n",
    "plt.xlabel('Volatility')\n",
    "plt.ylabel('Expected Return')\n",
    "plt.scatter(accepted_volatility, minimum_expected_return,\n",
    "            label='Minima accepted', s=200, marker='3')\n",
    "plt.annotate('Minima accepted', (accepted_volatility, minimum_expected_return))\n",
    "plt.scatter(x.value.T @ sigma @ x.value, R.value,\n",
    "            label='sum achieved', s=200, marker='3')\n",
    "plt.annotate('sum achieved', (x.value.T @ sigma @ x.value,\n",
    "                                 R.value))\n",
    "volatility = x.value * np.sqrt(x.value)\n",
    "final_expected_return = x.value * R.value\n",
    "for _x, _y , label in zip(volatility, final_expected_return, labels):\n",
    "    plt.scatter(_x, _y, label=label, s=_y * 1000)\n",
    "    #if _x > 0.01:\n",
    "        #plt.annotate(label, (_x, _y))\n",
    "\n",
    "plt.legend()\n",
    "plt.show()"
   ]
  },
  {
   "cell_type": "code",
   "execution_count": null,
   "metadata": {},
   "outputs": [],
   "source": [
    "data = bt.get('DAI.DE, UPM.HE, MC.PA', start='2010-01-01')\n",
    "print(data.head())"
   ]
  },
  {
   "cell_type": "code",
   "execution_count": null,
   "metadata": {},
   "outputs": [],
   "source": [
    "data.columns"
   ]
  },
  {
   "cell_type": "code",
   "execution_count": null,
   "metadata": {},
   "outputs": [],
   "source": [
    "s = bt.Strategy('s1', [bt.algos.RunMonthly(),\n",
    "                      bt.algos.SelectAll(),\n",
    "                      bt.algos.WeighEqually(),\n",
    "                      bt.algos.Rebalance()])"
   ]
  },
  {
   "cell_type": "code",
   "execution_count": null,
   "metadata": {},
   "outputs": [],
   "source": [
    "test = bt.Backtest(s, data)\n",
    "res = bt.run(test)"
   ]
  },
  {
   "cell_type": "code",
   "execution_count": null,
   "metadata": {},
   "outputs": [],
   "source": [
    "res.plot()"
   ]
  },
  {
   "cell_type": "code",
   "execution_count": null,
   "metadata": {},
   "outputs": [],
   "source": [
    "res.plot_histogram()"
   ]
  },
  {
   "cell_type": "code",
   "execution_count": null,
   "metadata": {},
   "outputs": [],
   "source": [
    "res.stats"
   ]
  },
  {
   "cell_type": "code",
   "execution_count": null,
   "metadata": {},
   "outputs": [],
   "source": [
    "res.plot_security_weights()"
   ]
  },
  {
   "cell_type": "code",
   "execution_count": null,
   "metadata": {},
   "outputs": [],
   "source": [
    "from pandas_datareader import data as pdata"
   ]
  },
  {
   "cell_type": "code",
   "execution_count": null,
   "metadata": {},
   "outputs": [],
   "source": [
    "fortum = pdata.get_data_yahoo('FORTUM.HE', start='2010-01-01', end='2019-01-01')"
   ]
  },
  {
   "cell_type": "code",
   "execution_count": null,
   "metadata": {},
   "outputs": [],
   "source": [
    "fortum"
   ]
  },
  {
   "cell_type": "code",
   "execution_count": null,
   "metadata": {},
   "outputs": [],
   "source": []
  }
 ],
 "metadata": {
  "kernelspec": {
   "display_name": "Python 3",
   "language": "python",
   "name": "python3"
  },
  "language_info": {
   "codemirror_mode": {
    "name": "ipython",
    "version": 3
   },
   "file_extension": ".py",
   "mimetype": "text/x-python",
   "name": "python",
   "nbconvert_exporter": "python",
   "pygments_lexer": "ipython3",
   "version": "3.6.6"
  }
 },
 "nbformat": 4,
 "nbformat_minor": 2
}
