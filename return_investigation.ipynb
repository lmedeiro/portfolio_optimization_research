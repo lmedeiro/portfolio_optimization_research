{
 "cells": [
  {
   "cell_type": "code",
   "execution_count": 1,
   "metadata": {},
   "outputs": [],
   "source": [
    "import sqlalchemy as sql\n",
    "import numpy as np\n",
    "import pandas as pd\n",
    "import matplotlib.pyplot as plt\n",
    "import sys\n",
    "import os\n",
    "import scipy as sci\n",
    "\n",
    "import cvxpy as cp\n",
    "from cvxopt import matrix, solvers"
   ]
  },
  {
   "cell_type": "code",
   "execution_count": 2,
   "metadata": {},
   "outputs": [],
   "source": [
    "home_dir = os.path.expandvars(\"$HOME\")\n",
    "app_src_dir = '/dev/repos/FinancialAnalyticsSystem/src'\n",
    "sys.path.insert(0, home_dir + app_src_dir)"
   ]
  },
  {
   "cell_type": "code",
   "execution_count": 3,
   "metadata": {},
   "outputs": [],
   "source": [
    "%load_ext autoreload\n",
    "%autoreload 1\n"
   ]
  },
  {
   "cell_type": "code",
   "execution_count": 4,
   "metadata": {},
   "outputs": [],
   "source": [
    "%aimport DataHandlingSystem\n",
    "%aimport FeatureExtractionSystem"
   ]
  },
  {
   "cell_type": "code",
   "execution_count": 5,
   "metadata": {},
   "outputs": [],
   "source": [
    "from DataHandlingSystem.DataLoadingSystem import *\n",
    "from FeatureExtractionSystem.DeltaFeatureExtractor import * "
   ]
  },
  {
   "cell_type": "code",
   "execution_count": 6,
   "metadata": {},
   "outputs": [
    {
     "name": "stderr",
     "output_type": "stream",
     "text": [
      "/home/l7/dev/tools/anaconda3/envs/analytics_system_env_3.6.5/lib/python3.6/site-packages/psycopg2/__init__.py:144: UserWarning: The psycopg2 wheel package will be renamed from release 2.8; in order to keep installing from binary please use \"pip install psycopg2-binary\" instead. For details see: <http://initd.org/psycopg/docs/install.html#binary-install-from-pypi>.\n",
      "  \"\"\")\n"
     ]
    }
   ],
   "source": [
    "sql_pass = str(np.loadtxt('/home/l7/dev/docs/sql_login.txt', dtype=str))\n",
    "db_name = 'stocks_eod'\n",
    "owner = 'sql_manager'\n",
    "data_loader = DataLoadingSystem(db_owner=owner, db_name=db_name, sql_pass=sql_pass)\n"
   ]
  },
  {
   "cell_type": "code",
   "execution_count": 13,
   "metadata": {},
   "outputs": [],
   "source": [
    "start_date = \"2005-01-01\"\n",
    "end_date = '2019-01-01'\n",
    "table_names = ['NVDA', 'MSFT', 'AXP', 'BA', 'CAT', 'BITTI_HE',\n",
    "              'DAI_DE', 'MC_PA', 'UPM_HE', 'FORTUM_HE']\n"
   ]
  },
  {
   "cell_type": "code",
   "execution_count": 14,
   "metadata": {},
   "outputs": [],
   "source": [
    "data_container, smallest_table = get_data_container(table_names=table_names,\n",
    "                                                   start_date=start_date,\n",
    "                                                   end_date=end_date,\n",
    "                                                   data_loader=data_loader)"
   ]
  },
  {
   "cell_type": "code",
   "execution_count": 20,
   "metadata": {},
   "outputs": [],
   "source": [
    "distance=30\n",
    "change_df = get_change_data_frame(data_container, smallest_table,\n",
    "                                 table_names,distance=distance)\n",
    "change_df = change_df[distance:]"
   ]
  },
  {
   "cell_type": "code",
   "execution_count": 21,
   "metadata": {},
   "outputs": [
    {
     "name": "stdout",
     "output_type": "stream",
     "text": [
      "Number of observations: 3312\n",
      "expected returns: NVDA         0.040878\n",
      "MSFT         0.017833\n",
      "AXP          0.014613\n",
      "BA           0.022736\n",
      "CAT          0.018134\n",
      "BITTI_HE     0.014251\n",
      "DAI_DE       0.013547\n",
      "MC_PA        0.019141\n",
      "UPM_HE       0.016622\n",
      "FORTUM_HE    0.016530\n",
      "dtype: float64\n",
      "sigma: [[0.02823398 0.00519306 0.00604701 0.0063014  0.00733085 0.00704691\n",
      "  0.00747399 0.00521583 0.00740853 0.00559445]\n",
      " [0.00519306 0.00578464 0.00426697 0.00251111 0.00341834 0.00400977\n",
      "  0.00380833 0.00229204 0.00303996 0.00212668]\n",
      " [0.00604701 0.00426697 0.01345785 0.00571881 0.00796179 0.00648527\n",
      "  0.0071942  0.00418724 0.00732134 0.00392274]\n",
      " [0.0063014  0.00251111 0.00571881 0.00799589 0.00513446 0.00529469\n",
      "  0.00479256 0.0032326  0.00543865 0.00366134]\n",
      " [0.00733085 0.00341834 0.00796179 0.00513446 0.01248129 0.00553795\n",
      "  0.00792624 0.00496075 0.00675503 0.0042122 ]\n",
      " [0.00704691 0.00400977 0.00648527 0.00529469 0.00553795 0.03203017\n",
      "  0.00711623 0.00395222 0.00702155 0.00334561]\n",
      " [0.00747399 0.00380833 0.0071942  0.00479256 0.00792624 0.00711623\n",
      "  0.01256114 0.00603524 0.00808296 0.00443854]\n",
      " [0.00521583 0.00229204 0.00418724 0.0032326  0.00496075 0.00395222\n",
      "  0.00603524 0.00653893 0.00516779 0.00340209]\n",
      " [0.00740853 0.00303996 0.00732134 0.00543865 0.00675503 0.00702155\n",
      "  0.00808296 0.00516779 0.01411997 0.00437237]\n",
      " [0.00559445 0.00212668 0.00392274 0.00366134 0.0042122  0.00334561\n",
      "  0.00443854 0.00340209 0.00437237 0.00791324]]\n",
      "N: 10\n"
     ]
    }
   ],
   "source": [
    "expected_returns = change_df.mean()\n",
    "print(\"Number of observations: {}\".format(change_df.index.size))\n",
    "print(\"expected returns: {}\".format(expected_returns))\n",
    "sigma = np.cov(change_df.values, rowvar=False)\n",
    "print(\"sigma: {}\".format(sigma))\n",
    "N = sigma.shape[0]\n",
    "print(\"N: {}\".format(N))"
   ]
  },
  {
   "cell_type": "code",
   "execution_count": 24,
   "metadata": {},
   "outputs": [
    {
     "data": {
      "image/png": "[encoded data removed]",
      "text/plain": [
       "<Figure size 432x288 with 1 Axes>"
      ]
     },
     "metadata": {},
     "output_type": "display_data"
    }
   ],
   "source": [
    "result = change_df.plot.density()"
   ]
  },
  {
   "cell_type": "code",
   "execution_count": 36,
   "metadata": {},
   "outputs": [
    {
     "data": {
      "image/png": "[encoded data removed]",
      "text/plain": [
       "<Figure size 432x288 with 1 Axes>"
      ]
     },
     "metadata": {},
     "output_type": "display_data"
    }
   ],
   "source": [
    "tables_to_check = ['NVDA','BITTI_HE']\n",
    "bins = 100\n",
    "plt.hist(change_df[tables_to_check].values,\n",
    "        bins=bins,\n",
    "        label=tables_to_check)\n",
    "plt.legend()\n",
    "plt.show()"
   ]
  },
  {
   "cell_type": "code",
   "execution_count": 58,
   "metadata": {},
   "outputs": [
    {
     "data": {
      "image/png": "[encoded data removed]",
      "text/plain": [
       "<Figure size 432x288 with 1 Axes>"
      ]
     },
     "metadata": {},
     "output_type": "display_data"
    }
   ],
   "source": [
    "bins = 100\n",
    "x = plt.hist(change_df.values.ravel(),\n",
    "             density=True,\n",
    "        bins=bins,\n",
    "        label='ALL')\n",
    "sample_fit = sci.stats.norm.fit(change_df.values.ravel())\n",
    "sample_range = np.linspace(change_df.values.ravel().min(),\n",
    "                           change_df.values.ravel().max(),\n",
    "                           change_df.values.ravel().size,\n",
    "                          )\n",
    "sample_pdf = sci.stats.norm.pdf(sample_range,\n",
    "                               loc=sample_fit[0],\n",
    "                               scale=sample_fit[1])\n",
    "plt.plot(sample_range,sample_pdf,\n",
    "        '-',\n",
    "         label='Fitted model',\n",
    "        )\n",
    "plt.legend()\n",
    "plt.show()"
   ]
  },
  {
   "cell_type": "code",
   "execution_count": 44,
   "metadata": {},
   "outputs": [],
   "source": [
    "loc = np.argmax(x[0])"
   ]
  },
  {
   "cell_type": "code",
   "execution_count": 45,
   "metadata": {},
   "outputs": [
    {
     "data": {
      "text/plain": [
       "0.02792526657309602"
      ]
     },
     "execution_count": 45,
     "metadata": {},
     "output_type": "execute_result"
    }
   ],
   "source": [
    "x[1][loc]"
   ]
  },
  {
   "cell_type": "code",
   "execution_count": 59,
   "metadata": {},
   "outputs": [
    {
     "data": {
      "text/plain": [
       "(0.01942845580276714, 0.11901708543773784)"
      ]
     },
     "execution_count": 59,
     "metadata": {},
     "output_type": "execute_result"
    }
   ],
   "source": [
    "sample_fit = sci.stats.norm.fit(change_df.values.ravel())\n",
    "sample_fit"
   ]
  },
  {
   "cell_type": "code",
   "execution_count": null,
   "metadata": {},
   "outputs": [],
   "source": []
  }
 ],
 "metadata": {
  "kernelspec": {
   "display_name": "Python 3",
   "language": "python",
   "name": "python3"
  },
  "language_info": {
   "codemirror_mode": {
    "name": "ipython",
    "version": 3
   },
   "file_extension": ".py",
   "mimetype": "text/x-python",
   "name": "python",
   "nbconvert_exporter": "python",
   "pygments_lexer": "ipython3",
   "version": "3.6.6"
  }
 },
 "nbformat": 4,
 "nbformat_minor": 2
}
